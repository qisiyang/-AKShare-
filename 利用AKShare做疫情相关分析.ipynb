{
 "cells": [
  {
   "cell_type": "code",
   "execution_count": null,
   "metadata": {},
   "outputs": [],
   "source": [
    "import pandas as pd\n",
    "import numpy as np\n",
    "import matplotlib.pyplot as plt\n",
    "import akshare as ak\n",
    "import jieba\n",
    "import wordcloud\n",
    "from nltk.corpus import stopwords "
   ]
  },
  {
   "cell_type": "code",
   "execution_count": null,
   "metadata": {},
   "outputs": [],
   "source": [
    "#绘制中国疫情趋势图\n",
    "chinese_total = ak.covid_19_163(indicator=\"中国历史累计数据\")\n",
    "chinese_total.eval('confirm1 = confirm - heal - dead' , inplace=True)#数据预处理\n",
    "plt.figure(figsize=(10,6))\n",
    "plt.rc('font',family='SimHei',size=10)#设置字体和大小，否则中文无法显示\n",
    "ax1=plt.subplot(2,1,1)\n",
    "confirm=chinese_total.confirm1\n",
    "confirm.plot(label='现存确诊',ax=ax1)\n",
    "ax1.legend()\n",
    "ax1.set_title('我国现存病例趋势图')\n",
    "chinese_time = ak.covid_19_163(indicator=\"中国历史时点数据\")#每日新增\n",
    "ax7=plt.subplot(2,1,2)\n",
    "confirm1=chinese_time.confirm\n",
    "confirm1.plot(label='每日新增确诊',ax=ax7)\n",
    "ax7.legend()\n",
    "ax7.set_title('我国新增病例趋势图')\n",
    "plt.savefig('D:\\\\china_trend.png')"
   ]
  },
  {
   "cell_type": "code",
   "execution_count": null,
   "metadata": {},
   "outputs": [],
   "source": [
    "#绘制中国现在疫情地区分布情况（高危地区）\n",
    "province = ak.covid_19_dxy(indicator=\"中国疫情分省统计详情\")\n",
    "province2=province.nlargest(10,'现存确诊',keep='all')#取出现存确诊人数最多的10个省份并排名\n",
    "province2=province2.sort_index(ascending=False)#将排名倒序\n",
    "plt.figure(figsize=(10,6))\n",
    "plt.rc('font',family='Simhei',size=10.5)\n",
    "ax2=plt.subplot(1,1,1)\n",
    "data=province2['现存确诊']#数据\n",
    "label=province2['地区']#图例\n",
    "rect=ax2.barh(range(len(label)),data,color='#03A2FF',alpha=1)\n",
    "ax2.set_yticks(range(len(label)))\n",
    "ax2.set_yticklabels(label)\n",
    "ax2.set_title('当今中国疫情地区风险情况')\n",
    "for x,y in zip(data,range(len(label))):#添加数据标签\n",
    "    ax2.text(x,y,'{}'.format(x),ha='left',va='center')\n",
    "plt.savefig('D:\\\\china_area.png')"
   ]
  },
  {
   "cell_type": "code",
   "execution_count": null,
   "metadata": {},
   "outputs": [],
   "source": [
    "#境外输入情况分析\n",
    "input_= ak.covid_19_163(indicator=\"境外输入确诊病例来源\")\n",
    "input_source=input_.groupby('source').sum()#对重复的来源地数据进行合并\n",
    "input_source=input_source.nlargest(20,'value',keep='all')#取出现存确诊人数最多的10个省份并排名\n",
    "input_source=input_source.sort_values('value',ascending=True)#排序\n",
    "input_target=input_.groupby('target').sum()#对重复的目标地数据进行合并\n",
    "input_target=input_target.nlargest(20,'value',keep='all')#取出现存确诊人数最多的10个省份并排名\n",
    "input_target=input_target.sort_values('value',ascending=True)#排序\n",
    "plt.figure(figsize=(10,6))\n",
    "plt.rc('font',family='Simhei',size=10.5)\n",
    "ax3=plt.subplot(1,2,1)\n",
    "ax4=plt.subplot(1,2,2)\n",
    "data=input_source.value#数据\n",
    "label=input_source.index#图例\n",
    "data_=input_target.value#数据\n",
    "label_=input_target.index#图例\n",
    "rect=ax3.barh(range(len(label)),data,color='#03A2FF',alpha=1)\n",
    "rect=ax4.barh(range(len(label_)),data_,color='#03A2FF',alpha=1)\n",
    "ax3.set_yticks(range(len(label)))\n",
    "ax3.set_yticklabels(label)\n",
    "ax3.set_title('境外输入来源国排名')\n",
    "ax4.set_yticks(range(len(label_)))\n",
    "ax4.set_yticklabels(label_)\n",
    "ax4.set_title('境外输入目标地排名')\n",
    "for x,y in zip(data,range(len(label))):#添加数据标签\n",
    "    ax3.text(x,y,'{}'.format(x),ha='left',va='center')\n",
    "    ax4.text(x,y,'{}'.format(x),ha='left',va='center')\n",
    "plt.savefig('D:\\\\input.png')"
   ]
  },
  {
   "cell_type": "code",
   "execution_count": null,
   "metadata": {},
   "outputs": [],
   "source": [
    "#分析新增境外输入疫情趋势\n",
    "input_trend = ak.covid_19_163(indicator=\"境外输入疫情趋势\")\n",
    "plt.figure(figsize=(10,6))\n",
    "plt.rc('font',family='SimHei',size=10)#设置字体和大小，否则中文无法显示\n",
    "ax5=plt.subplot(1,2,1)\n",
    "ax6=plt.subplot(1,2,2)\n",
    "input_trend_add=input_trend['境外输入新增确诊']\n",
    "input_trend_total=input_trend['境外输入累计确诊']\n",
    "input_trend_add.plot(label='境外输入新增确诊',ax=ax5)\n",
    "input_trend_total.plot(label='境外输入新增确诊',ax=ax6)\n",
    "ax5.set_title('境外输入新增确诊')\n",
    "ax6.set_title('境外输入累计确诊')\n",
    "plt.savefig('D:\\\\input_trend.png')"
   ]
  },
  {
   "cell_type": "code",
   "execution_count": null,
   "metadata": {},
   "outputs": [],
   "source": [
    "#分析疫情期间人口迁徙情况\n",
    "move_in = ak.covid_19_baidu(indicator=\"热门迁入地\")\n",
    "move_in=move_in.nlargest(10,'value',keep='all')\n",
    "plt.figure(figsize=(20,6))\n",
    "plt.rc('font',family='Simhei',size=10.5)\n",
    "ax8=plt.subplot(1,2,1)\n",
    "data=move_in['value']#数据\n",
    "label=move_in['city_name']#图例\n",
    "rect=ax8.bar(range(len(label)),data,color='#03A2FF',alpha=1)\n",
    "ax8.set_xticks(range(len(label)))\n",
    "ax8.set_xticklabels(label)\n",
    "ax8.set_ylabel('迁入比例')\n",
    "ax8.set_title('疫情期间人口迁入地区排名')\n",
    "\n",
    "move_out = ak.covid_19_baidu(indicator=\"热门迁出地\")\n",
    "move_out=move_out.nlargest(10,'value',keep='all')\n",
    "ax9=plt.subplot(1,2,2)\n",
    "data_=move_out['value']#数据\n",
    "label_=move_out['city_name']#图例\n",
    "rect=ax9.bar(range(len(label_)),data_,color='#03A2FF',alpha=1)\n",
    "ax9.set_xticks(range(len(label_)))\n",
    "ax9.set_xticklabels(label_)\n",
    "ax9.set_ylabel('迁出比例')\n",
    "ax9.set_title('疫情期间人口迁出地区排名')\n",
    "plt.savefig('D:\\\\move.png')"
   ]
  },
  {
   "cell_type": "code",
   "execution_count": null,
   "metadata": {},
   "outputs": [],
   "source": [
    "#下面进行舆情分析"
   ]
  },
  {
   "cell_type": "code",
   "execution_count": null,
   "metadata": {},
   "outputs": [],
   "source": [
    "#专家观点关键词\n",
    "quanwei = ak.covid_19_163(indicator=\"权威发布\")\n",
    "del quanwei['img']\n",
    "del quanwei['time']\n",
    "del quanwei['link']\n",
    "del quanwei['title']\n",
    "t= str(quanwei)\n",
    "ls = jieba.lcut(t)\n",
    "string = \" \".join(ls)\n",
    "w = wordcloud.WordCloud(width=1000,\n",
    "                        font_path=\"msyh.ttc\",\n",
    "                        height=700,\n",
    "                        background_color=\"white\",\n",
    "                        prefer_horizontal=100,\n",
    "                        max_font_size=80)\n",
    "w.generate(string)\n",
    "w.to_file(\"quanwei.png\")\n"
   ]
  },
  {
   "cell_type": "code",
   "execution_count": null,
   "metadata": {},
   "outputs": [],
   "source": [
    "#疫情学术进展\n",
    "academic = ak.covid_19_163(indicator=\"疫情学术进展\")#疫情期间学术方面的成果\n",
    "del academic['url3g']\n",
    "del academic['docid']\n",
    "del academic['lspri']\n",
    "del academic['finearticle']\n",
    "del academic['url']\n",
    "del academic['quality']\n",
    "del academic['imgsrc3gtype']\n",
    "del academic['topicid']\n",
    "del academic['stitle']\n",
    "del academic['nickname']\n",
    "del academic['imgsrc3g']\n",
    "del academic['imgsrc']\n",
    "del academic['ptime']\n",
    "del academic['daynum']\n",
    "del academic['extraField1']\n",
    "del academic['extraField3']\n",
    "t= str(academic)#把dataframe转成string格式\n",
    "ls = jieba.lcut(t)#分词\n",
    "string = \" \".join(ls)\n",
    "w = wordcloud.WordCloud(width=1000,\n",
    "                        font_path=\"msyh.ttc\",\n",
    "                        height=700,\n",
    "                        background_color=\"white\",\n",
    "                        prefer_horizontal=100,\n",
    "                        stopwords={\"zxli\",\"通讯\",\"作者\",\"通讯\",\"杂志\",\"院士\",\"论文\"} )\n",
    "w.generate(string)\n",
    "w.to_file(\"academic.png\")\n"
   ]
  },
  {
   "cell_type": "code",
   "execution_count": null,
   "metadata": {},
   "outputs": [],
   "source": []
  },
  {
   "cell_type": "code",
   "execution_count": null,
   "metadata": {},
   "outputs": [],
   "source": []
  },
  {
   "cell_type": "code",
   "execution_count": null,
   "metadata": {},
   "outputs": [],
   "source": []
  }
 ],
 "metadata": {
  "kernelspec": {
   "display_name": "Python 3",
   "language": "python",
   "name": "python3"
  },
  "language_info": {
   "codemirror_mode": {
    "name": "ipython",
    "version": 3
   },
   "file_extension": ".py",
   "mimetype": "text/x-python",
   "name": "python",
   "nbconvert_exporter": "python",
   "pygments_lexer": "ipython3",
   "version": "3.7.4"
  }
 },
 "nbformat": 4,
 "nbformat_minor": 2
}
